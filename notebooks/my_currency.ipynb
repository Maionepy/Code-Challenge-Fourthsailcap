{
 "cells": [
  {
   "cell_type": "code",
   "execution_count": null,
   "metadata": {},
   "outputs": [],
   "source": [
    "import sqlite3\n",
    "import pandas as pd\n",
    "import matplotlib.pyplot as plt\n",
    "import seaborn as sns\n",
    "\n",
    "# Connect to the SQLite database\n",
    "conn = sqlite3.connect(\"../data/my_currency.db\")\n",
    "\n",
    "# Retrieve the currency data from the database\n",
    "query = \"SELECT * FROM currency_prices\"\n",
    "df = pd.read_sql_query(query, conn)\n",
    "\n",
    "# Close the database connection\n",
    "conn.close()\n",
    "\n",
    "# Convert the date column to datetime type\n",
    "df[\"date\"] = pd.to_datetime(df[\"date\"])\n",
    "\n",
    "# Plot the currency time series\n",
    "plt.figure(figsize=(12, 6))\n",
    "\n",
    "currency_pairs = df[\"ticker\"].unique()\n",
    "for pair in currency_pairs:\n",
    "    plt.plot(df[df[\"ticker\"] == pair][\"date\"], df[df[\"ticker\"] == pair][\"close\"], label=pair)\n",
    "\n",
    "plt.xlabel(\"Date\")\n",
    "plt.ylabel(\"Close Price\")\n",
    "plt.title(\"Currency Time Series\")\n",
    "plt.legend()\n",
    "plt.grid(True)\n",
    "plt.show()\n",
    "\n",
    "# Plot the heatmap with correlations between prices\n",
    "plt.figure(figsize=(8, 6))\n",
    "\n",
    "correlation_matrix = df.pivot(index=\"date\", columns=\"ticker\", values=\"close\").corr()\n",
    "sns.heatmap(correlation_matrix, annot=True, cmap=\"coolwarm\", fmt=\".2f\")\n",
    "plt.title(\"Correlation Between Currency Prices\")\n",
    "plt.show()\n",
    "\n",
    "# Display the plots\n",
    "plt.show()"
   ]
  }
 ],
 "metadata": {
  "language_info": {
   "name": "python"
  },
  "orig_nbformat": 4
 },
 "nbformat": 4,
 "nbformat_minor": 2
}
